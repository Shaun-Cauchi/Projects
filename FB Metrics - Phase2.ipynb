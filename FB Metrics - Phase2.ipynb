{
 "cells": [
  {
   "cell_type": "markdown",
   "metadata": {},
   "source": [
    "# Predicting Facebook Post Total Contributions\n",
    "## Phase 2: Predictive Modelling\n",
    "### Shaun Cauchi\n",
    "***"
   ]
  },
  {
   "cell_type": "markdown",
   "metadata": {},
   "source": [
    "## Table of Contents\n",
    "* [Introduction](#itr) \n",
    "  + [Phase 1 Summary](#Phase-1-Summary)\n",
    "  + [Report Overview](#Report-Overview)\n",
    "  + [Overview of Methodology](#Overview-of-Methodology)\n",
    "  + [Additional Data Prep Steps](#Additional-Data-Prep-Steps)\n",
    "* [Predicitve Modelling](#Predictive-Modelling)\n",
    "  + [Feature Selection (FS)](#Feature-Selection-(FS))\n",
    "  + [Model Fitting & Tuning](#Model-Fitting-&-Tuning)\n",
    "  + [Model Comparison](#Model-Comparison)\n",
    "* [Critique & Limitations](#Critique-&-Limitations)\n",
    "* [Summary & Conclusions](#Summary-&-Conclusions)\n",
    "  + [Project Summary](#Project-Summary)\n",
    "  + [Summary of Findings](#Summary-of-Findings)\n",
    "  + [Conclusions](#Conclusions)"
   ]
  },
  {
   "cell_type": "code",
   "execution_count": 1,
   "metadata": {},
   "outputs": [],
   "source": [
    "import warnings\n",
    "warnings.filterwarnings(\"ignore\")\n",
    "\n",
    "import numpy as np\n",
    "import pandas as pd\n",
    "import io\n",
    "import requests\n",
    "\n",
    "pd.set_option('display.max_columns', None) "
   ]
  },
  {
   "cell_type": "code",
   "execution_count": 2,
   "metadata": {},
   "outputs": [
    {
     "data": {
      "text/html": [
       "<div>\n",
       "<style scoped>\n",
       "    .dataframe tbody tr th:only-of-type {\n",
       "        vertical-align: middle;\n",
       "    }\n",
       "\n",
       "    .dataframe tbody tr th {\n",
       "        vertical-align: top;\n",
       "    }\n",
       "\n",
       "    .dataframe thead th {\n",
       "        text-align: right;\n",
       "    }\n",
       "</style>\n",
       "<table border=\"1\" class=\"dataframe\">\n",
       "  <thead>\n",
       "    <tr style=\"text-align: right;\">\n",
       "      <th></th>\n",
       "      <th>page_total_likes</th>\n",
       "      <th>type</th>\n",
       "      <th>category</th>\n",
       "      <th>post_month</th>\n",
       "      <th>post_weekday</th>\n",
       "      <th>post_hour</th>\n",
       "      <th>paid</th>\n",
       "      <th>total_interactions</th>\n",
       "    </tr>\n",
       "  </thead>\n",
       "  <tbody>\n",
       "    <tr>\n",
       "      <th>0</th>\n",
       "      <td>139441</td>\n",
       "      <td>Photo</td>\n",
       "      <td>2</td>\n",
       "      <td>12</td>\n",
       "      <td>4</td>\n",
       "      <td>3</td>\n",
       "      <td>0</td>\n",
       "      <td>100</td>\n",
       "    </tr>\n",
       "    <tr>\n",
       "      <th>1</th>\n",
       "      <td>139441</td>\n",
       "      <td>Status</td>\n",
       "      <td>2</td>\n",
       "      <td>12</td>\n",
       "      <td>3</td>\n",
       "      <td>10</td>\n",
       "      <td>0</td>\n",
       "      <td>164</td>\n",
       "    </tr>\n",
       "    <tr>\n",
       "      <th>2</th>\n",
       "      <td>139441</td>\n",
       "      <td>Photo</td>\n",
       "      <td>3</td>\n",
       "      <td>12</td>\n",
       "      <td>3</td>\n",
       "      <td>3</td>\n",
       "      <td>0</td>\n",
       "      <td>80</td>\n",
       "    </tr>\n",
       "    <tr>\n",
       "      <th>3</th>\n",
       "      <td>139441</td>\n",
       "      <td>Photo</td>\n",
       "      <td>2</td>\n",
       "      <td>12</td>\n",
       "      <td>2</td>\n",
       "      <td>3</td>\n",
       "      <td>0</td>\n",
       "      <td>393</td>\n",
       "    </tr>\n",
       "    <tr>\n",
       "      <th>4</th>\n",
       "      <td>139441</td>\n",
       "      <td>Status</td>\n",
       "      <td>2</td>\n",
       "      <td>12</td>\n",
       "      <td>1</td>\n",
       "      <td>9</td>\n",
       "      <td>0</td>\n",
       "      <td>186</td>\n",
       "    </tr>\n",
       "  </tbody>\n",
       "</table>\n",
       "</div>"
      ],
      "text/plain": [
       "   page_total_likes    type  category  post_month  post_weekday  post_hour  \\\n",
       "0            139441   Photo         2          12             4          3   \n",
       "1            139441  Status         2          12             3         10   \n",
       "2            139441   Photo         3          12             3          3   \n",
       "3            139441   Photo         2          12             2          3   \n",
       "4            139441  Status         2          12             1          9   \n",
       "\n",
       "   paid  total_interactions  \n",
       "0     0                 100  \n",
       "1     0                 164  \n",
       "2     0                  80  \n",
       "3     0                 393  \n",
       "4     0                 186  "
      ]
     },
     "execution_count": 2,
     "metadata": {},
     "output_type": "execute_result"
    }
   ],
   "source": [
    "df = pd.read_csv(r'C:\\Users\\shaun\\Documents\\Uni Year 3\\Machine Learning\\Phase2_Group85.csv')\n",
    "df.head()"
   ]
  },
  {
   "cell_type": "markdown",
   "metadata": {},
   "source": [
    "# Introduction"
   ]
  },
  {
   "cell_type": "markdown",
   "metadata": {},
   "source": [
    "## Phase 1 Summary"
   ]
  },
  {
   "cell_type": "markdown",
   "metadata": {},
   "source": [
    "In phase 1 of this project, data cleaning and preparation were completed in order to enable for data visualisation and, in phase 2, a machine learning model. Several characteristics, including \"lifetime\" features, as well as Comment, Like, and Share, were removed from the dataset. Despite the fact that the dataset had already been cleaned to some extent, it was checked for outliers and missing values, with the one missing value detected being replaced with 0 and any outliers above the 90th percentile being removed from the dataset.\n",
    "\n",
    "Data was investigated through the creation of several visualisations. Photo posts were discovered to be the most common sort of post through analysis, which was made feasible by the application of explanatory factors. Preliminary investigation reveals that there may be a reason why certain months have considerably more postings than others, but additional research, such as modelling, is needed to see whether there is a link. Aspects of the numerical data, such as the goal feature, Total Interactions, were also found to be right-skewed.\n"
   ]
  },
  {
   "cell_type": "markdown",
   "metadata": {},
   "source": [
    "## Report Overview"
   ]
  },
  {
   "cell_type": "markdown",
   "metadata": {},
   "source": [
    "This report details steps taken to split the dataset and produce models to accurately predict ‘total_interactions’. The Predictive Modelling section of the report contains the code necessary to craft 3 separate models that may be accurate solutions to the problem and will be further explained in the Overview of Methodology. The conclusions and results derived from these models and analysis are written and detailed in the Summary and Conclusions section, with the models mostly found as being disappointing in their attempt to predict the target variable."
   ]
  },
  {
   "cell_type": "markdown",
   "metadata": {},
   "source": [
    "## Overview of Methodology"
   ]
  },
  {
   "cell_type": "markdown",
   "metadata": {},
   "source": [
    "Due to the nature of the target variable and dataset, this problem is considered to require a regression model to accurately predict ‘Total Interactions’. Firstly however, the data will need to be split into a training and a test set to accurately predict the target feature and determine which features have the most importance to the model. I propose to test a number of different models in order to find the best fit for this prediction. Replicating a Decision Tree model for this problem may prove to be an accurate model, especially through the use of testing various max depths of the tree to find the depth with the least number of errors. A Random Forest regression model will also be analysed for the prediction, which is a combination of decision trees generated from independent sampling of training data. A Linear Regression model is the final model that will be constructed in the effort to accurately predict and distinguish the training and test data. After the construction of these models, they will need to be compared to determine which one is the most accurate in its predictions, and therefore the best fit for the problem."
   ]
  },
  {
   "cell_type": "markdown",
   "metadata": {},
   "source": [
    "## Additional Data Prep Steps\n",
    "\n",
    "The function below will translate the weekdays to their labels, rather than 1-7. This is done in order to one-hot encode the dataset further to allow for each day to be classed as a seperate feature."
   ]
  },
  {
   "cell_type": "code",
   "execution_count": 3,
   "metadata": {},
   "outputs": [],
   "source": [
    "def Weekday(x):\n",
    "    if x == 1:\n",
    "        return 'Su'\n",
    "    elif x== 2:\n",
    "        return 'Mo'\n",
    "    elif x == 3:\n",
    "        return 'Tu'\n",
    "    elif x == 4:\n",
    "        return 'We'\n",
    "    elif x == 5:\n",
    "        return 'Th'\n",
    "    elif x ==6:\n",
    "        return 'Fr'\n",
    "    elif x == 7:\n",
    "        return \"Sa\"\n",
    "\n",
    "df['Weekday'] = df['post_weekday'].apply(lambda x: Weekday(x))"
   ]
  },
  {
   "cell_type": "code",
   "execution_count": 4,
   "metadata": {},
   "outputs": [],
   "source": [
    "dayDf = pd.get_dummies(df['Weekday'])"
   ]
  },
  {
   "cell_type": "code",
   "execution_count": 5,
   "metadata": {},
   "outputs": [],
   "source": [
    "df = pd.concat([df,dayDf],axis=1)"
   ]
  },
  {
   "cell_type": "markdown",
   "metadata": {},
   "source": [
    "Similarly to what was just previously stated, all hours of the day and months of the year are classed as their own seperate feature to assist in modelling."
   ]
  },
  {
   "cell_type": "code",
   "execution_count": 6,
   "metadata": {},
   "outputs": [],
   "source": [
    "hours = list(range(0,18))\n",
    "for i in hours:\n",
    "    hours[i] = str(hours[i])\n",
    "    hours[i]='hr_'+ hours[i]"
   ]
  },
  {
   "cell_type": "code",
   "execution_count": 7,
   "metadata": {},
   "outputs": [],
   "source": [
    "hour = pd.get_dummies(df['post_hour'],prefix='hr_')\n",
    "df = pd.concat([df,hour],axis=1)\n",
    "month = pd.get_dummies(df['post_month'],prefix='Mo')\n",
    "df = pd.concat([df,month],axis=1)\n",
    "df['Video'] = pd.get_dummies(df['type'])['Video']\n",
    "df['Status'] = pd.get_dummies(df['type'])['Status']\n",
    "df['Photo'] = pd.get_dummies(df['type'])['Photo']\n",
    "df['Cat_1'] = pd.get_dummies(df['category'])[1]\n",
    "df['Cat_2'] = pd.get_dummies(df['category'])[2]\n",
    "df= df.drop(columns=['type', 'category', 'post_month', 'post_weekday', 'post_hour', 'Weekday'],axis = 1)"
   ]
  },
  {
   "cell_type": "code",
   "execution_count": 8,
   "metadata": {},
   "outputs": [
    {
     "data": {
      "text/html": [
       "<div>\n",
       "<style scoped>\n",
       "    .dataframe tbody tr th:only-of-type {\n",
       "        vertical-align: middle;\n",
       "    }\n",
       "\n",
       "    .dataframe tbody tr th {\n",
       "        vertical-align: top;\n",
       "    }\n",
       "\n",
       "    .dataframe thead th {\n",
       "        text-align: right;\n",
       "    }\n",
       "</style>\n",
       "<table border=\"1\" class=\"dataframe\">\n",
       "  <thead>\n",
       "    <tr style=\"text-align: right;\">\n",
       "      <th></th>\n",
       "      <th>page_total_likes</th>\n",
       "      <th>paid</th>\n",
       "      <th>total_interactions</th>\n",
       "      <th>Fr</th>\n",
       "      <th>Mo</th>\n",
       "      <th>Sa</th>\n",
       "      <th>Su</th>\n",
       "      <th>Th</th>\n",
       "      <th>Tu</th>\n",
       "      <th>We</th>\n",
       "      <th>hr__1</th>\n",
       "      <th>hr__2</th>\n",
       "      <th>hr__3</th>\n",
       "      <th>hr__4</th>\n",
       "      <th>hr__5</th>\n",
       "      <th>hr__6</th>\n",
       "      <th>hr__7</th>\n",
       "      <th>hr__8</th>\n",
       "      <th>hr__9</th>\n",
       "      <th>hr__10</th>\n",
       "      <th>hr__11</th>\n",
       "      <th>hr__12</th>\n",
       "      <th>hr__13</th>\n",
       "      <th>hr__14</th>\n",
       "      <th>hr__15</th>\n",
       "      <th>hr__16</th>\n",
       "      <th>hr__17</th>\n",
       "      <th>hr__18</th>\n",
       "      <th>hr__19</th>\n",
       "      <th>hr__20</th>\n",
       "      <th>hr__22</th>\n",
       "      <th>hr__23</th>\n",
       "      <th>Mo_1</th>\n",
       "      <th>Mo_2</th>\n",
       "      <th>Mo_3</th>\n",
       "      <th>Mo_4</th>\n",
       "      <th>Mo_5</th>\n",
       "      <th>Mo_6</th>\n",
       "      <th>Mo_7</th>\n",
       "      <th>Mo_8</th>\n",
       "      <th>Mo_9</th>\n",
       "      <th>Mo_10</th>\n",
       "      <th>Mo_11</th>\n",
       "      <th>Mo_12</th>\n",
       "      <th>Video</th>\n",
       "      <th>Status</th>\n",
       "      <th>Photo</th>\n",
       "      <th>Cat_1</th>\n",
       "      <th>Cat_2</th>\n",
       "    </tr>\n",
       "  </thead>\n",
       "  <tbody>\n",
       "    <tr>\n",
       "      <th>0</th>\n",
       "      <td>139441</td>\n",
       "      <td>0</td>\n",
       "      <td>100</td>\n",
       "      <td>0</td>\n",
       "      <td>0</td>\n",
       "      <td>0</td>\n",
       "      <td>0</td>\n",
       "      <td>0</td>\n",
       "      <td>0</td>\n",
       "      <td>1</td>\n",
       "      <td>0</td>\n",
       "      <td>0</td>\n",
       "      <td>1</td>\n",
       "      <td>0</td>\n",
       "      <td>0</td>\n",
       "      <td>0</td>\n",
       "      <td>0</td>\n",
       "      <td>0</td>\n",
       "      <td>0</td>\n",
       "      <td>0</td>\n",
       "      <td>0</td>\n",
       "      <td>0</td>\n",
       "      <td>0</td>\n",
       "      <td>0</td>\n",
       "      <td>0</td>\n",
       "      <td>0</td>\n",
       "      <td>0</td>\n",
       "      <td>0</td>\n",
       "      <td>0</td>\n",
       "      <td>0</td>\n",
       "      <td>0</td>\n",
       "      <td>0</td>\n",
       "      <td>0</td>\n",
       "      <td>0</td>\n",
       "      <td>0</td>\n",
       "      <td>0</td>\n",
       "      <td>0</td>\n",
       "      <td>0</td>\n",
       "      <td>0</td>\n",
       "      <td>0</td>\n",
       "      <td>0</td>\n",
       "      <td>0</td>\n",
       "      <td>0</td>\n",
       "      <td>1</td>\n",
       "      <td>0</td>\n",
       "      <td>0</td>\n",
       "      <td>1</td>\n",
       "      <td>0</td>\n",
       "      <td>1</td>\n",
       "    </tr>\n",
       "    <tr>\n",
       "      <th>1</th>\n",
       "      <td>139441</td>\n",
       "      <td>0</td>\n",
       "      <td>164</td>\n",
       "      <td>0</td>\n",
       "      <td>0</td>\n",
       "      <td>0</td>\n",
       "      <td>0</td>\n",
       "      <td>0</td>\n",
       "      <td>1</td>\n",
       "      <td>0</td>\n",
       "      <td>0</td>\n",
       "      <td>0</td>\n",
       "      <td>0</td>\n",
       "      <td>0</td>\n",
       "      <td>0</td>\n",
       "      <td>0</td>\n",
       "      <td>0</td>\n",
       "      <td>0</td>\n",
       "      <td>0</td>\n",
       "      <td>1</td>\n",
       "      <td>0</td>\n",
       "      <td>0</td>\n",
       "      <td>0</td>\n",
       "      <td>0</td>\n",
       "      <td>0</td>\n",
       "      <td>0</td>\n",
       "      <td>0</td>\n",
       "      <td>0</td>\n",
       "      <td>0</td>\n",
       "      <td>0</td>\n",
       "      <td>0</td>\n",
       "      <td>0</td>\n",
       "      <td>0</td>\n",
       "      <td>0</td>\n",
       "      <td>0</td>\n",
       "      <td>0</td>\n",
       "      <td>0</td>\n",
       "      <td>0</td>\n",
       "      <td>0</td>\n",
       "      <td>0</td>\n",
       "      <td>0</td>\n",
       "      <td>0</td>\n",
       "      <td>0</td>\n",
       "      <td>1</td>\n",
       "      <td>0</td>\n",
       "      <td>1</td>\n",
       "      <td>0</td>\n",
       "      <td>0</td>\n",
       "      <td>1</td>\n",
       "    </tr>\n",
       "    <tr>\n",
       "      <th>2</th>\n",
       "      <td>139441</td>\n",
       "      <td>0</td>\n",
       "      <td>80</td>\n",
       "      <td>0</td>\n",
       "      <td>0</td>\n",
       "      <td>0</td>\n",
       "      <td>0</td>\n",
       "      <td>0</td>\n",
       "      <td>1</td>\n",
       "      <td>0</td>\n",
       "      <td>0</td>\n",
       "      <td>0</td>\n",
       "      <td>1</td>\n",
       "      <td>0</td>\n",
       "      <td>0</td>\n",
       "      <td>0</td>\n",
       "      <td>0</td>\n",
       "      <td>0</td>\n",
       "      <td>0</td>\n",
       "      <td>0</td>\n",
       "      <td>0</td>\n",
       "      <td>0</td>\n",
       "      <td>0</td>\n",
       "      <td>0</td>\n",
       "      <td>0</td>\n",
       "      <td>0</td>\n",
       "      <td>0</td>\n",
       "      <td>0</td>\n",
       "      <td>0</td>\n",
       "      <td>0</td>\n",
       "      <td>0</td>\n",
       "      <td>0</td>\n",
       "      <td>0</td>\n",
       "      <td>0</td>\n",
       "      <td>0</td>\n",
       "      <td>0</td>\n",
       "      <td>0</td>\n",
       "      <td>0</td>\n",
       "      <td>0</td>\n",
       "      <td>0</td>\n",
       "      <td>0</td>\n",
       "      <td>0</td>\n",
       "      <td>0</td>\n",
       "      <td>1</td>\n",
       "      <td>0</td>\n",
       "      <td>0</td>\n",
       "      <td>1</td>\n",
       "      <td>0</td>\n",
       "      <td>0</td>\n",
       "    </tr>\n",
       "    <tr>\n",
       "      <th>3</th>\n",
       "      <td>139441</td>\n",
       "      <td>0</td>\n",
       "      <td>393</td>\n",
       "      <td>0</td>\n",
       "      <td>1</td>\n",
       "      <td>0</td>\n",
       "      <td>0</td>\n",
       "      <td>0</td>\n",
       "      <td>0</td>\n",
       "      <td>0</td>\n",
       "      <td>0</td>\n",
       "      <td>0</td>\n",
       "      <td>1</td>\n",
       "      <td>0</td>\n",
       "      <td>0</td>\n",
       "      <td>0</td>\n",
       "      <td>0</td>\n",
       "      <td>0</td>\n",
       "      <td>0</td>\n",
       "      <td>0</td>\n",
       "      <td>0</td>\n",
       "      <td>0</td>\n",
       "      <td>0</td>\n",
       "      <td>0</td>\n",
       "      <td>0</td>\n",
       "      <td>0</td>\n",
       "      <td>0</td>\n",
       "      <td>0</td>\n",
       "      <td>0</td>\n",
       "      <td>0</td>\n",
       "      <td>0</td>\n",
       "      <td>0</td>\n",
       "      <td>0</td>\n",
       "      <td>0</td>\n",
       "      <td>0</td>\n",
       "      <td>0</td>\n",
       "      <td>0</td>\n",
       "      <td>0</td>\n",
       "      <td>0</td>\n",
       "      <td>0</td>\n",
       "      <td>0</td>\n",
       "      <td>0</td>\n",
       "      <td>0</td>\n",
       "      <td>1</td>\n",
       "      <td>0</td>\n",
       "      <td>0</td>\n",
       "      <td>1</td>\n",
       "      <td>0</td>\n",
       "      <td>1</td>\n",
       "    </tr>\n",
       "    <tr>\n",
       "      <th>4</th>\n",
       "      <td>139441</td>\n",
       "      <td>0</td>\n",
       "      <td>186</td>\n",
       "      <td>0</td>\n",
       "      <td>0</td>\n",
       "      <td>0</td>\n",
       "      <td>1</td>\n",
       "      <td>0</td>\n",
       "      <td>0</td>\n",
       "      <td>0</td>\n",
       "      <td>0</td>\n",
       "      <td>0</td>\n",
       "      <td>0</td>\n",
       "      <td>0</td>\n",
       "      <td>0</td>\n",
       "      <td>0</td>\n",
       "      <td>0</td>\n",
       "      <td>0</td>\n",
       "      <td>1</td>\n",
       "      <td>0</td>\n",
       "      <td>0</td>\n",
       "      <td>0</td>\n",
       "      <td>0</td>\n",
       "      <td>0</td>\n",
       "      <td>0</td>\n",
       "      <td>0</td>\n",
       "      <td>0</td>\n",
       "      <td>0</td>\n",
       "      <td>0</td>\n",
       "      <td>0</td>\n",
       "      <td>0</td>\n",
       "      <td>0</td>\n",
       "      <td>0</td>\n",
       "      <td>0</td>\n",
       "      <td>0</td>\n",
       "      <td>0</td>\n",
       "      <td>0</td>\n",
       "      <td>0</td>\n",
       "      <td>0</td>\n",
       "      <td>0</td>\n",
       "      <td>0</td>\n",
       "      <td>0</td>\n",
       "      <td>0</td>\n",
       "      <td>1</td>\n",
       "      <td>0</td>\n",
       "      <td>1</td>\n",
       "      <td>0</td>\n",
       "      <td>0</td>\n",
       "      <td>1</td>\n",
       "    </tr>\n",
       "  </tbody>\n",
       "</table>\n",
       "</div>"
      ],
      "text/plain": [
       "   page_total_likes  paid  total_interactions  Fr  Mo  Sa  Su  Th  Tu  We  \\\n",
       "0            139441     0                 100   0   0   0   0   0   0   1   \n",
       "1            139441     0                 164   0   0   0   0   0   1   0   \n",
       "2            139441     0                  80   0   0   0   0   0   1   0   \n",
       "3            139441     0                 393   0   1   0   0   0   0   0   \n",
       "4            139441     0                 186   0   0   0   1   0   0   0   \n",
       "\n",
       "   hr__1  hr__2  hr__3  hr__4  hr__5  hr__6  hr__7  hr__8  hr__9  hr__10  \\\n",
       "0      0      0      1      0      0      0      0      0      0       0   \n",
       "1      0      0      0      0      0      0      0      0      0       1   \n",
       "2      0      0      1      0      0      0      0      0      0       0   \n",
       "3      0      0      1      0      0      0      0      0      0       0   \n",
       "4      0      0      0      0      0      0      0      0      1       0   \n",
       "\n",
       "   hr__11  hr__12  hr__13  hr__14  hr__15  hr__16  hr__17  hr__18  hr__19  \\\n",
       "0       0       0       0       0       0       0       0       0       0   \n",
       "1       0       0       0       0       0       0       0       0       0   \n",
       "2       0       0       0       0       0       0       0       0       0   \n",
       "3       0       0       0       0       0       0       0       0       0   \n",
       "4       0       0       0       0       0       0       0       0       0   \n",
       "\n",
       "   hr__20  hr__22  hr__23  Mo_1  Mo_2  Mo_3  Mo_4  Mo_5  Mo_6  Mo_7  Mo_8  \\\n",
       "0       0       0       0     0     0     0     0     0     0     0     0   \n",
       "1       0       0       0     0     0     0     0     0     0     0     0   \n",
       "2       0       0       0     0     0     0     0     0     0     0     0   \n",
       "3       0       0       0     0     0     0     0     0     0     0     0   \n",
       "4       0       0       0     0     0     0     0     0     0     0     0   \n",
       "\n",
       "   Mo_9  Mo_10  Mo_11  Mo_12  Video  Status  Photo  Cat_1  Cat_2  \n",
       "0     0      0      0      1      0       0      1      0      1  \n",
       "1     0      0      0      1      0       1      0      0      1  \n",
       "2     0      0      0      1      0       0      1      0      0  \n",
       "3     0      0      0      1      0       0      1      0      1  \n",
       "4     0      0      0      1      0       1      0      0      1  "
      ]
     },
     "execution_count": 8,
     "metadata": {},
     "output_type": "execute_result"
    }
   ],
   "source": [
    "df.head()"
   ]
  },
  {
   "cell_type": "markdown",
   "metadata": {},
   "source": [
    "# Predictive Modelling"
   ]
  },
  {
   "cell_type": "code",
   "execution_count": 9,
   "metadata": {},
   "outputs": [],
   "source": [
    "from sklearn import linear_model\n",
    "from sklearn.model_selection import train_test_split\n",
    "from sklearn.metrics import r2_score\n",
    "from sklearn import feature_selection as fs\n",
    "from sklearn.linear_model import LinearRegression\n",
    "from sklearn.ensemble import RandomForestRegressor\n",
    "from sklearn.tree import DecisionTreeRegressor\n",
    "from sklearn.feature_selection import f_regression\n",
    "from matplotlib import pyplot\n",
    "import seaborn as sns\n",
    "from sklearn.metrics import mean_squared_error\n",
    "from sklearn import metrics"
   ]
  },
  {
   "cell_type": "markdown",
   "metadata": {},
   "source": [
    "All the descriptive features have been one-hot encoded, and so they are designated as dataframe 'x' in order to be split into training and testing for the prediction of 'total_interactions' (y)."
   ]
  },
  {
   "cell_type": "code",
   "execution_count": 10,
   "metadata": {},
   "outputs": [],
   "source": [
    "x = df.drop(columns='total_interactions')\n",
    "y = df['total_interactions']"
   ]
  },
  {
   "cell_type": "markdown",
   "metadata": {},
   "source": [
    "The dataset is then scaled in order for all features to be on the same scale to produce accurate results."
   ]
  },
  {
   "cell_type": "code",
   "execution_count": 11,
   "metadata": {},
   "outputs": [],
   "source": [
    "from sklearn import preprocessing\n",
    "\n",
    "df_copy = df.copy()\n",
    "\n",
    "Data_scaler = preprocessing.MinMaxScaler()\n",
    "Data_scaler.fit(df)\n",
    "df = Data_scaler.fit_transform(df)"
   ]
  },
  {
   "cell_type": "markdown",
   "metadata": {},
   "source": [
    "## Feature Selection (FS)"
   ]
  },
  {
   "cell_type": "markdown",
   "metadata": {},
   "source": [
    "The 10 most important features to determining 'total_interactions' are found, with 'page_total_likes' outstandingly being the most important feature."
   ]
  },
  {
   "cell_type": "code",
   "execution_count": 12,
   "metadata": {},
   "outputs": [
    {
     "data": {
      "text/plain": [
       "array(['page_total_likes', 'paid', 'Photo', 'hr__2', 'Cat_1', 'hr__9',\n",
       "       'Su', 'Tu', 'Status', 'Mo'], dtype=object)"
      ]
     },
     "execution_count": 12,
     "metadata": {},
     "output_type": "execute_result"
    }
   ],
   "source": [
    "from sklearn.ensemble import RandomForestClassifier\n",
    "\n",
    "num_features = 10\n",
    "model_rfi = RandomForestClassifier(n_estimators=100)\n",
    "model_rfi.fit(x, y)\n",
    "fs_indices_rfi = np.argsort(model_rfi.feature_importances_)[::-1][0:num_features]\n",
    "\n",
    "rfi_best_features = df_copy.columns[fs_indices_rfi].values\n",
    "rfi_best_features"
   ]
  },
  {
   "cell_type": "markdown",
   "metadata": {},
   "source": [
    "These 10 features have their importance calculated and graphed in order to easily show the rankings of the features."
   ]
  },
  {
   "cell_type": "code",
   "execution_count": 13,
   "metadata": {},
   "outputs": [],
   "source": [
    "import matplotlib.pyplot as plt\n",
    "%matplotlib inline \n",
    "%config InlineBackend.figure_format = 'retina'\n",
    "plt.style.use(\"fivethirtyeight\")\n",
    "\n",
    "def plot_imp(best_features, scores, method_name):   \n",
    "    plt.barh(best_features, scores)\n",
    "    plt.title(method_name + ' Importance of Features')\n",
    "    plt.xlabel(\"Importance\")\n",
    "    plt.ylabel(\"Features\")\n",
    "    plt.show()"
   ]
  },
  {
   "cell_type": "code",
   "execution_count": 14,
   "metadata": {},
   "outputs": [
    {
     "data": {
      "text/plain": [
       "array([0.17782499, 0.04808754, 0.03752907, 0.0340182 , 0.03287444,\n",
       "       0.03145504, 0.03068039, 0.02807593, 0.02770383, 0.0275914 ])"
      ]
     },
     "execution_count": 14,
     "metadata": {},
     "output_type": "execute_result"
    }
   ],
   "source": [
    "rfi_feature_importances = model_rfi.feature_importances_[fs_indices_rfi]\n",
    "rfi_feature_importances"
   ]
  },
  {
   "cell_type": "code",
   "execution_count": 15,
   "metadata": {},
   "outputs": [
    {
     "data": {
      "image/png": "[encoded data removed]",
      "text/plain": [
       "<Figure size 432x288 with 1 Axes>"
      ]
     },
     "metadata": {
      "image/png": {
       "height": 307,
       "width": 534
      }
     },
     "output_type": "display_data"
    }
   ],
   "source": [
    "plot_imp(rfi_best_features, rfi_feature_importances, 'Random Forest')"
   ]
  },
  {
   "cell_type": "markdown",
   "metadata": {},
   "source": [
    "## Predictive Modelling\n",
    "\n",
    "The x and y datasets are split further into training and testing in order to prepare for modelling."
   ]
  },
  {
   "cell_type": "code",
   "execution_count": 16,
   "metadata": {},
   "outputs": [
    {
     "name": "stdout",
     "output_type": "stream",
     "text": [
      "(315, 48)\n",
      "(135, 48)\n"
     ]
    }
   ],
   "source": [
    "x_train,x_test,y_train, y_test = train_test_split(x,\n",
    "                                                  y, test_size=0.3,\n",
    "                                                  random_state=None)\n",
    "\n",
    "print(x_train.shape)\n",
    "print(x_test.shape)"
   ]
  },
  {
   "cell_type": "markdown",
   "metadata": {},
   "source": [
    "### Decision Tree Regression\n",
    "\n",
    "The same Decision Tree Model is rerun multiple times, with max depth changing in each case in order to determine which depth is the best fit for the model as the best fit will produce the least errors."
   ]
  },
  {
   "cell_type": "code",
   "execution_count": 17,
   "metadata": {},
   "outputs": [
    {
     "data": {
      "text/plain": [
       "DecisionTreeRegressor(max_depth=1, random_state=999)"
      ]
     },
     "execution_count": 17,
     "metadata": {},
     "output_type": "execute_result"
    }
   ],
   "source": [
    "dt_regressor = DecisionTreeRegressor(max_depth = 1, random_state = 999)\n",
    "dt_regressor.fit(x_train, y_train)"
   ]
  },
  {
   "cell_type": "code",
   "execution_count": 18,
   "metadata": {},
   "outputs": [
    {
     "name": "stdout",
     "output_type": "stream",
     "text": [
      "MSE score: 7272.874340666712\n",
      "RMSE score: 85.28114880011123\n",
      "R-2 score: 0.03648541352395729\n"
     ]
    }
   ],
   "source": [
    "y_pred = dt_regressor.predict(x_test)\n",
    "mse = mean_squared_error(y_test, y_pred)\n",
    "rmse=np.sqrt(mse)\n",
    "t_pred = dt_regressor.predict(x_test)\n",
    "dt_r2 = metrics.r2_score(y_test, y_pred)\n",
    "print('MSE score:', mse)\n",
    "print('RMSE score:',rmse)\n",
    "print('R-2 score:',dt_r2)"
   ]
  },
  {
   "cell_type": "code",
   "execution_count": 19,
   "metadata": {},
   "outputs": [
    {
     "data": {
      "text/plain": [
       "DecisionTreeRegressor(max_depth=2, random_state=999)"
      ]
     },
     "execution_count": 19,
     "metadata": {},
     "output_type": "execute_result"
    }
   ],
   "source": [
    "dt_regressor = DecisionTreeRegressor(max_depth = 2, random_state = 999)\n",
    "dt_regressor.fit(x_train, y_train)"
   ]
  },
  {
   "cell_type": "code",
   "execution_count": 20,
   "metadata": {},
   "outputs": [
    {
     "name": "stdout",
     "output_type": "stream",
     "text": [
      "MSE score: 6986.380936366492\n",
      "RMSE score: 83.58457355497181\n",
      "R-2 score: 0.07444022492898084\n"
     ]
    }
   ],
   "source": [
    "y_pred = dt_regressor.predict(x_test)\n",
    "mse = mean_squared_error(y_test, y_pred)\n",
    "rmse=np.sqrt(mse)\n",
    "t_pred = dt_regressor.predict(x_test)\n",
    "dt_r2 = metrics.r2_score(y_test, y_pred)\n",
    "print('MSE score:', mse)\n",
    "print('RMSE score:',rmse)\n",
    "print('R-2 score:',dt_r2)"
   ]
  },
  {
   "cell_type": "code",
   "execution_count": 21,
   "metadata": {},
   "outputs": [
    {
     "data": {
      "text/plain": [
       "DecisionTreeRegressor(max_depth=3, random_state=999)"
      ]
     },
     "execution_count": 21,
     "metadata": {},
     "output_type": "execute_result"
    }
   ],
   "source": [
    "dt_regressor = DecisionTreeRegressor(max_depth = 3, random_state = 999)\n",
    "dt_regressor.fit(x_train, y_train)"
   ]
  },
  {
   "cell_type": "code",
   "execution_count": 22,
   "metadata": {},
   "outputs": [
    {
     "name": "stdout",
     "output_type": "stream",
     "text": [
      "MSE score: 8105.756659160515\n",
      "RMSE score: 90.03197575950732\n",
      "R-2 score: -0.07385531630270425\n"
     ]
    }
   ],
   "source": [
    "y_pred = dt_regressor.predict(x_test)\n",
    "mse = mean_squared_error(y_test, y_pred)\n",
    "rmse=np.sqrt(mse)\n",
    "t_pred = dt_regressor.predict(x_test)\n",
    "dt_r2 = metrics.r2_score(y_test, y_pred)\n",
    "print('MSE score:', mse)\n",
    "print('RMSE score:',rmse)\n",
    "print('R-2 score:',dt_r2)"
   ]
  },
  {
   "cell_type": "code",
   "execution_count": 23,
   "metadata": {},
   "outputs": [
    {
     "data": {
      "text/plain": [
       "DecisionTreeRegressor(max_depth=4, random_state=999)"
      ]
     },
     "execution_count": 23,
     "metadata": {},
     "output_type": "execute_result"
    }
   ],
   "source": [
    "dt_regressor = DecisionTreeRegressor(max_depth = 4, random_state = 999)\n",
    "dt_regressor.fit(x_train, y_train)"
   ]
  },
  {
   "cell_type": "code",
   "execution_count": 24,
   "metadata": {},
   "outputs": [
    {
     "name": "stdout",
     "output_type": "stream",
     "text": [
      "MSE score: 9389.199407192038\n",
      "RMSE score: 96.89788133489833\n",
      "R-2 score: -0.24388655164533324\n"
     ]
    }
   ],
   "source": [
    "y_pred = dt_regressor.predict(x_test)\n",
    "mse = mean_squared_error(y_test, y_pred)\n",
    "rmse=np.sqrt(mse)\n",
    "t_pred = dt_regressor.predict(x_test)\n",
    "dt_r2 = metrics.r2_score(y_test, y_pred)\n",
    "print('MSE score:', mse)\n",
    "print('RMSE score:',rmse)\n",
    "print('R-2 score:',dt_r2)"
   ]
  },
  {
   "cell_type": "code",
   "execution_count": 25,
   "metadata": {},
   "outputs": [
    {
     "data": {
      "text/plain": [
       "DecisionTreeRegressor(max_depth=5, random_state=999)"
      ]
     },
     "execution_count": 25,
     "metadata": {},
     "output_type": "execute_result"
    }
   ],
   "source": [
    "dt_regressor = DecisionTreeRegressor(max_depth = 5, random_state = 999)\n",
    "dt_regressor.fit(x_train, y_train)"
   ]
  },
  {
   "cell_type": "code",
   "execution_count": 26,
   "metadata": {},
   "outputs": [
    {
     "name": "stdout",
     "output_type": "stream",
     "text": [
      "MSE score: 10058.625998618896\n",
      "RMSE score: 100.29270162189718\n",
      "R-2 score: -0.33257257249518424\n"
     ]
    }
   ],
   "source": [
    "y_pred = dt_regressor.predict(x_test)\n",
    "mse = mean_squared_error(y_test, y_pred)\n",
    "rmse=np.sqrt(mse)\n",
    "t_pred = dt_regressor.predict(x_test)\n",
    "dt_r2 = metrics.r2_score(y_test, y_pred)\n",
    "print('MSE score:', mse)\n",
    "print('RMSE score:',rmse)\n",
    "print('R-2 score:',dt_r2)"
   ]
  },
  {
   "cell_type": "code",
   "execution_count": 27,
   "metadata": {},
   "outputs": [
    {
     "data": {
      "text/plain": [
       "DecisionTreeRegressor(max_depth=10, random_state=999)"
      ]
     },
     "execution_count": 27,
     "metadata": {},
     "output_type": "execute_result"
    }
   ],
   "source": [
    "dt_regressor = DecisionTreeRegressor(max_depth = 10, random_state = 999)\n",
    "dt_regressor.fit(x_train, y_train)"
   ]
  },
  {
   "cell_type": "code",
   "execution_count": 28,
   "metadata": {},
   "outputs": [
    {
     "name": "stdout",
     "output_type": "stream",
     "text": [
      "MSE score: 11834.59326159274\n",
      "RMSE score: 108.78691677583633\n",
      "R-2 score: -0.5678537395863192\n"
     ]
    }
   ],
   "source": [
    "y_pred = dt_regressor.predict(x_test)\n",
    "mse = mean_squared_error(y_test, y_pred)\n",
    "rmse=np.sqrt(mse)\n",
    "t_pred = dt_regressor.predict(x_test)\n",
    "dt_r2 = metrics.r2_score(y_test, y_pred)\n",
    "print('MSE score:', mse)\n",
    "print('RMSE score:',rmse)\n",
    "print('R-2 score:',dt_r2)"
   ]
  },
  {
   "cell_type": "markdown",
   "metadata": {},
   "source": [
    "By running the models and arranging the seprate depths' R^2 values into a table and graph, it is clear that a Decision Tree with a max depth of 2 will be the most accurate model for the predicition. However, it is still wildly innacurate, with an R^2 score of only 0.109."
   ]
  },
  {
   "cell_type": "code",
   "execution_count": 29,
   "metadata": {},
   "outputs": [
    {
     "data": {
      "text/html": [
       "<div>\n",
       "<style scoped>\n",
       "    .dataframe tbody tr th:only-of-type {\n",
       "        vertical-align: middle;\n",
       "    }\n",
       "\n",
       "    .dataframe tbody tr th {\n",
       "        vertical-align: top;\n",
       "    }\n",
       "\n",
       "    .dataframe thead th {\n",
       "        text-align: right;\n",
       "    }\n",
       "</style>\n",
       "<table border=\"1\" class=\"dataframe\">\n",
       "  <thead>\n",
       "    <tr style=\"text-align: right;\">\n",
       "      <th></th>\n",
       "      <th>depth</th>\n",
       "      <th>R-2 score</th>\n",
       "    </tr>\n",
       "  </thead>\n",
       "  <tbody>\n",
       "    <tr>\n",
       "      <th>0</th>\n",
       "      <td>1</td>\n",
       "      <td>-0.495</td>\n",
       "    </tr>\n",
       "    <tr>\n",
       "      <th>1</th>\n",
       "      <td>2</td>\n",
       "      <td>0.109</td>\n",
       "    </tr>\n",
       "    <tr>\n",
       "      <th>2</th>\n",
       "      <td>3</td>\n",
       "      <td>-0.028</td>\n",
       "    </tr>\n",
       "    <tr>\n",
       "      <th>3</th>\n",
       "      <td>4</td>\n",
       "      <td>-0.109</td>\n",
       "    </tr>\n",
       "    <tr>\n",
       "      <th>4</th>\n",
       "      <td>5</td>\n",
       "      <td>-0.188</td>\n",
       "    </tr>\n",
       "    <tr>\n",
       "      <th>5</th>\n",
       "      <td>10</td>\n",
       "      <td>-0.495</td>\n",
       "    </tr>\n",
       "  </tbody>\n",
       "</table>\n",
       "</div>"
      ],
      "text/plain": [
       "  depth  R-2 score\n",
       "0     1     -0.495\n",
       "1     2      0.109\n",
       "2     3     -0.028\n",
       "3     4     -0.109\n",
       "4     5     -0.188\n",
       "5    10     -0.495"
      ]
     },
     "execution_count": 29,
     "metadata": {},
     "output_type": "execute_result"
    }
   ],
   "source": [
    "dt_table = {'depth': ['1', '2', '3', '4', '5', '10'],\n",
    "        'R-2 score': [-0.495, 0.109, -0.028, -0.109, -0.188, -0.495]}\n",
    "df_summary = pd.DataFrame(dt_table)\n",
    "df_summary"
   ]
  },
  {
   "cell_type": "code",
   "execution_count": 30,
   "metadata": {},
   "outputs": [
    {
     "data": {
      "image/png": "[encoded data removed]",
      "text/plain": [
       "<Figure size 432x288 with 1 Axes>"
      ]
     },
     "metadata": {
      "image/png": {
       "height": 307,
       "width": 448
      }
     },
     "output_type": "display_data"
    }
   ],
   "source": [
    "plt.plot(df_summary['depth'], df_summary['R-2 score'], marker = '.', label = i)  \n",
    "plt.xlabel('Model Depth')\n",
    "plt.ylabel(\"R^2 Score\")\n",
    "plt.title(\"Decision Tree Model Comparison\")\n",
    "plt.show()"
   ]
  },
  {
   "cell_type": "markdown",
   "metadata": {},
   "source": [
    "### Random Forest Regression"
   ]
  },
  {
   "cell_type": "code",
   "execution_count": 31,
   "metadata": {},
   "outputs": [
    {
     "data": {
      "text/plain": [
       "RandomForestRegressor(min_samples_split=10, n_estimators=500)"
      ]
     },
     "execution_count": 31,
     "metadata": {},
     "output_type": "execute_result"
    }
   ],
   "source": [
    "rf = RandomForestRegressor(n_estimators=500,min_samples_split=10)\n",
    "rf.fit(x_train,y_train)"
   ]
  },
  {
   "cell_type": "code",
   "execution_count": 32,
   "metadata": {},
   "outputs": [
    {
     "data": {
      "text/plain": [
       "RandomForestRegressor(min_impurity_split=1e-07, min_samples_split=10,\n",
       "                      n_estimators=500, n_jobs=1, random_state=999)"
      ]
     },
     "execution_count": 32,
     "metadata": {},
     "output_type": "execute_result"
    }
   ],
   "source": [
    "RandomForestRegressor(bootstrap=True, criterion='mse', max_depth=None,\n",
    "           max_features='auto', max_leaf_nodes=None,\n",
    "           min_impurity_split=1e-07, min_samples_leaf=1,\n",
    "           min_samples_split=10, min_weight_fraction_leaf=0.0,\n",
    "           n_estimators=500, n_jobs=1, oob_score=False, random_state=999,\n",
    "           verbose=0, warm_start=False)"
   ]
  },
  {
   "cell_type": "code",
   "execution_count": 33,
   "metadata": {},
   "outputs": [
    {
     "name": "stdout",
     "output_type": "stream",
     "text": [
      "Test R-2 score:  0.09601511439379495\n",
      "Test Pearson correlation:  0.39614396535455065\n",
      "Test Spearman correlation:  0.4475816980205807\n",
      " \n",
      "Train R-2 score:  0.598357370922399\n",
      "Train Pearson correlation:  0.8100258980202519\n",
      "Train Spearman correlation:  0.8371558901848445\n"
     ]
    }
   ],
   "source": [
    "from sklearn.metrics import r2_score\n",
    "from scipy.stats import spearmanr, pearsonr\n",
    "predicted_train = rf.predict(x_train)\n",
    "predicted_test = rf.predict(x_test)\n",
    "test_score = r2_score(y_test, predicted_test)\n",
    "spearman = spearmanr(y_test, predicted_test)\n",
    "pearson = pearsonr(y_test, predicted_test)\n",
    "\n",
    "print('Test R-2 score: ',test_score)\n",
    "print('Test Pearson correlation: ',pearson[0])\n",
    "print('Test Spearman correlation: ',spearman[0])\n",
    "\n",
    "\n",
    "train_score = r2_score(y_train, predicted_train)\n",
    "spearmanTrain = spearmanr(y_train, predicted_train)\n",
    "pearsonTrain = pearsonr(y_train, predicted_train)\n",
    "\n",
    "print(' ')\n",
    "\n",
    "print('Train R-2 score: ',train_score)\n",
    "print('Train Pearson correlation: ',pearsonTrain[0])\n",
    "print('Train Spearman correlation: ',spearmanTrain[0])"
   ]
  },
  {
   "cell_type": "markdown",
   "metadata": {},
   "source": [
    "According to the table and the graph, this Random Forrest model is adequate at prediciting training data, with and R^2 score of 0.623, however, it is wildly innacurate in the prediciton of testing data, with it only producing an R^2 score of 0.12."
   ]
  },
  {
   "cell_type": "code",
   "execution_count": 34,
   "metadata": {},
   "outputs": [
    {
     "data": {
      "text/html": [
       "<div>\n",
       "<style scoped>\n",
       "    .dataframe tbody tr th:only-of-type {\n",
       "        vertical-align: middle;\n",
       "    }\n",
       "\n",
       "    .dataframe tbody tr th {\n",
       "        vertical-align: top;\n",
       "    }\n",
       "\n",
       "    .dataframe thead th {\n",
       "        text-align: right;\n",
       "    }\n",
       "</style>\n",
       "<table border=\"1\" class=\"dataframe\">\n",
       "  <thead>\n",
       "    <tr style=\"text-align: right;\">\n",
       "      <th></th>\n",
       "      <th>Score</th>\n",
       "      <th>Step</th>\n",
       "    </tr>\n",
       "  </thead>\n",
       "  <tbody>\n",
       "    <tr>\n",
       "      <th>0</th>\n",
       "      <td>0.598357</td>\n",
       "      <td>train</td>\n",
       "    </tr>\n",
       "    <tr>\n",
       "      <th>1</th>\n",
       "      <td>0.096015</td>\n",
       "      <td>test</td>\n",
       "    </tr>\n",
       "  </tbody>\n",
       "</table>\n",
       "</div>"
      ],
      "text/plain": [
       "      Score   Step\n",
       "0  0.598357  train\n",
       "1  0.096015   test"
      ]
     },
     "execution_count": 34,
     "metadata": {},
     "output_type": "execute_result"
    }
   ],
   "source": [
    "rfperf = pd.DataFrame()\n",
    "rfperf['Score'] = [train_score,test_score]\n",
    "rfperf['Step'] = ['train','test']\n",
    "rfperf"
   ]
  },
  {
   "cell_type": "code",
   "execution_count": 35,
   "metadata": {},
   "outputs": [
    {
     "data": {
      "text/plain": [
       "Text(0.5, 1.0, 'R^2 Scores')"
      ]
     },
     "execution_count": 35,
     "metadata": {},
     "output_type": "execute_result"
    },
    {
     "data": {
      "image/png": "[encoded data removed]",
      "text/plain": [
       "<Figure size 432x288 with 1 Axes>"
      ]
     },
     "metadata": {
      "image/png": {
       "height": 307,
       "width": 436
      }
     },
     "output_type": "display_data"
    }
   ],
   "source": [
    "sns.pointplot(y=rfperf['Score'],x=rfperf['Step'],color='Red').set_title('R^2 Scores')"
   ]
  },
  {
   "cell_type": "markdown",
   "metadata": {},
   "source": [
    "### Linear Regression"
   ]
  },
  {
   "cell_type": "code",
   "execution_count": 36,
   "metadata": {},
   "outputs": [
    {
     "data": {
      "text/plain": [
       "LinearRegression(normalize=True)"
      ]
     },
     "execution_count": 36,
     "metadata": {},
     "output_type": "execute_result"
    }
   ],
   "source": [
    "reg = linear_model.LinearRegression(normalize=True)\n",
    "reg.fit(x_train,y_train)"
   ]
  },
  {
   "cell_type": "code",
   "execution_count": 37,
   "metadata": {},
   "outputs": [
    {
     "data": {
      "text/plain": [
       "LinearRegression(n_jobs=1, normalize=True)"
      ]
     },
     "execution_count": 37,
     "metadata": {},
     "output_type": "execute_result"
    }
   ],
   "source": [
    "LinearRegression(copy_X=True, fit_intercept=True, n_jobs=1, normalize=True)"
   ]
  },
  {
   "cell_type": "code",
   "execution_count": 38,
   "metadata": {},
   "outputs": [
    {
     "data": {
      "text/plain": [
       "array([ 8.45936010e-03,  1.69072121e+01,  5.48931777e+15,  5.48931777e+15,\n",
       "        5.48931777e+15,  5.48931777e+15,  5.48931777e+15,  5.48931777e+15,\n",
       "        5.48931777e+15, -2.52064764e+15, -2.52064764e+15, -2.52064764e+15,\n",
       "       -2.52064764e+15, -2.52064764e+15, -2.52064764e+15, -2.52064764e+15,\n",
       "       -2.52064764e+15, -2.52064764e+15, -2.52064764e+15, -2.52064764e+15,\n",
       "       -2.52064764e+15, -2.52064764e+15, -2.52064764e+15, -2.52064764e+15,\n",
       "        1.77506235e+15, -2.52064764e+15, -2.52064764e+15, -1.30480497e+16,\n",
       "       -2.52064764e+15, -2.52064764e+15, -2.85396009e+15, -1.60339557e+15,\n",
       "       -1.60339557e+15, -1.60339557e+15, -1.60339557e+15, -1.60339557e+15,\n",
       "       -1.60339557e+15, -1.60339557e+15, -1.60339557e+15, -1.60339557e+15,\n",
       "       -1.60339557e+15, -1.60339557e+15, -1.60339557e+15,  3.12465663e+01,\n",
       "        7.15086578e+01,  4.44401716e+01, -5.96388780e+01, -1.79947085e+01])"
      ]
     },
     "execution_count": 38,
     "metadata": {},
     "output_type": "execute_result"
    }
   ],
   "source": [
    "reg.coef_"
   ]
  },
  {
   "cell_type": "code",
   "execution_count": 39,
   "metadata": {},
   "outputs": [],
   "source": [
    "pred = reg.predict(x_test)\n",
    "pred_train = reg.predict(x_train)"
   ]
  },
  {
   "cell_type": "code",
   "execution_count": 40,
   "metadata": {},
   "outputs": [],
   "source": [
    "testScore = r2_score(y_pred=pred,y_true=y_test)\n",
    "trainScore = r2_score(y_pred=pred_train,y_true=y_train)"
   ]
  },
  {
   "cell_type": "code",
   "execution_count": 41,
   "metadata": {},
   "outputs": [
    {
     "data": {
      "text/html": [
       "<div>\n",
       "<style scoped>\n",
       "    .dataframe tbody tr th:only-of-type {\n",
       "        vertical-align: middle;\n",
       "    }\n",
       "\n",
       "    .dataframe tbody tr th {\n",
       "        vertical-align: top;\n",
       "    }\n",
       "\n",
       "    .dataframe thead th {\n",
       "        text-align: right;\n",
       "    }\n",
       "</style>\n",
       "<table border=\"1\" class=\"dataframe\">\n",
       "  <thead>\n",
       "    <tr style=\"text-align: right;\">\n",
       "      <th></th>\n",
       "      <th>Score</th>\n",
       "      <th>Step</th>\n",
       "    </tr>\n",
       "  </thead>\n",
       "  <tbody>\n",
       "    <tr>\n",
       "      <th>0</th>\n",
       "      <td>2.756448e-01</td>\n",
       "      <td>train</td>\n",
       "    </tr>\n",
       "    <tr>\n",
       "      <th>1</th>\n",
       "      <td>-1.269757e+26</td>\n",
       "      <td>test</td>\n",
       "    </tr>\n",
       "  </tbody>\n",
       "</table>\n",
       "</div>"
      ],
      "text/plain": [
       "          Score   Step\n",
       "0  2.756448e-01  train\n",
       "1 -1.269757e+26   test"
      ]
     },
     "execution_count": 41,
     "metadata": {},
     "output_type": "execute_result"
    }
   ],
   "source": [
    "rfScores = pd.DataFrame()\n",
    "rfScores['Score'] = [trainScore,testScore]\n",
    "rfScores['Step'] = ['train','test']\n",
    "rfScores"
   ]
  },
  {
   "cell_type": "markdown",
   "metadata": {},
   "source": [
    "The Linear Regression model is extremely poor overall with both scores having an R^2 score of less then 0.26."
   ]
  },
  {
   "cell_type": "code",
   "execution_count": 42,
   "metadata": {},
   "outputs": [
    {
     "data": {
      "text/plain": [
       "Text(0.5, 1.0, 'R^2 Scores')"
      ]
     },
     "execution_count": 42,
     "metadata": {},
     "output_type": "execute_result"
    },
    {
     "data": {
      "image/png": "[encoded data removed]",
      "text/plain": [
       "<Figure size 432x288 with 1 Axes>"
      ]
     },
     "metadata": {
      "image/png": {
       "height": 307,
       "width": 448
      }
     },
     "output_type": "display_data"
    }
   ],
   "source": [
    "sns.pointplot(y=rfScores['Score'],x=rfScores['Step']).set_title('R^2 Scores')"
   ]
  },
  {
   "cell_type": "markdown",
   "metadata": {},
   "source": [
    "## Model Comparison"
   ]
  },
  {
   "cell_type": "markdown",
   "metadata": {},
   "source": [
    "# Critique & Limitations"
   ]
  },
  {
   "cell_type": "markdown",
   "metadata": {},
   "source": [
    "The modelling strategy provided does have limitations. Firstly, 3 random regression algorithms were chosen without determining before conception if they were the best fit for the Facebook Metrics data. If this project were to be expanded further, literature review and more rigorous analysis would need to be conducted to determine if any regression models at all can accurately predict ‘Total interactions’ based off the data.\n",
    "\n",
    "A major limitation of this project was that the data available appears to not be rich enough to generate an accurate, practical model to predict total interactions on a Facebook post. A fuller dataset may have been able to generate more pleasing results. Even if the hyper-parameter search space was expanded further, the increase in prediction accuracy would be negligible, especially for consumer use.\n"
   ]
  },
  {
   "cell_type": "markdown",
   "metadata": {},
   "source": [
    "# Summary & Conclusions"
   ]
  },
  {
   "cell_type": "markdown",
   "metadata": {},
   "source": [
    "## Project Summary"
   ]
  },
  {
   "cell_type": "markdown",
   "metadata": {},
   "source": [
    "The Facebook Metrics dataset was firstly imported from a study from UCI. Data cleaning & preprocessing were conducted in phase 1 of this project in order to allow for data visualisation and, in phase 2 of the project, a machine learning model. Numerous features were dropped from the dataset, specifically the “lifetime” features as well as Comment, Like, and Share. Although the dataset was relatively cleaned already, A check was also conducted for any outliers and missing values, with the one missing value found being replaced with 0, and any of the outliers that were above the 90th percentile being dropped from the dataset. Data was then explored through the construction of various visualisations. This was done in order to increase the relevance and potentially accuracy of the model to the ‘Total_Interactions’ target variable. \n",
    "\n",
    "In phase 2 of the project, further data preprocessing was required to prepare the data for modelling. All the descriptive features were one-hot encoded, and the dataset was scaled in order to allow for an the most important features to be accurately selected utilising the Random Forest Classifier method. The  regression models were then constructed to predict this target variable, namely a Decision Tree, Random Forest, and Linear Regression models. These models were analysed based on their prediction accuracy individually and were further improved through the use of hyper-parameters. The models were then compared through the use of paired t-tests."
   ]
  },
  {
   "cell_type": "markdown",
   "metadata": {},
   "source": [
    "## Summary of Findings"
   ]
  },
  {
   "cell_type": "markdown",
   "metadata": {},
   "source": [
    "Through the analysis of the dataset and construction of 3 models, it was found that a Random Forest regression model was the most accurate in predicting the amount of total interactions a given post would receive on this specific cosmetics brand’s Facebook profile. The model, however, was not accurate enough for practical use, and so the data was determined to be not rich enough in order to solve this particular problem. However, many insights were found that could assist in improving the engagement that this brand receives on their posts. \n",
    "\n",
    "•\tPaid posts on average have higher engagement than unpaid posts.\n",
    "\n",
    "•\tPaid Status/Photo and Category 1 and 2 posts have the highest improvement so more paid posts of these types would generate more engagement.\n",
    "\n",
    "•\tVideo Posts have the highest average engagement, and it’s not close, so more Video posts may lead to more engagement.\n",
    "\n",
    "•\tPosting Monday in the mid-morning and Wednesday in the early morning appear to yield higher engagement returns.\n",
    "\n",
    "•\tPlace importance on increasing Page Likes as there is a higher probability that a page that has “high” engagement would increase interactions on every post.\n",
    "\n",
    "Overall, it appears that the larger presence that a brand has already established on Facebook will lead to more total interactions on every post."
   ]
  },
  {
   "cell_type": "markdown",
   "metadata": {},
   "source": [
    "## Conclusions"
   ]
  },
  {
   "cell_type": "markdown",
   "metadata": {},
   "source": [
    "Restating the goals and objectives of this project, Facebook is one of the most widely used social media platforms in the world, with many small and major businesses using it for marketing and commerce. A model that could properly forecast the overall number of interactions a post will have would be substantial in assisting smaller businesses with a limited marketing budget.  The main objective of this project was to predict the total interactions a post on Facebook will receive. Although this was not achieved, the secondary goal of determining which features have the largest impact on these interactions was. The total likes a page already has was found to be substantially  the most important aspect of a Facebook page when trying to increase interactions per post. The paid status of the post was also found to impact interactions, with paid posts having great feature importance."
   ]
  }
 ],
 "metadata": {
  "kernelspec": {
   "display_name": "Python 3",
   "language": "python",
   "name": "python3"
  },
  "language_info": {
   "codemirror_mode": {
    "name": "ipython",
    "version": 3
   },
   "file_extension": ".py",
   "mimetype": "text/x-python",
   "name": "python",
   "nbconvert_exporter": "python",
   "pygments_lexer": "ipython3",
   "version": "3.8.5"
  }
 },
 "nbformat": 4,
 "nbformat_minor": 4
}
